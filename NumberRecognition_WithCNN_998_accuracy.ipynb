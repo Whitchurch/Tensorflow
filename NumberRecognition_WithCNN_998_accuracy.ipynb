{
  "nbformat": 4,
  "nbformat_minor": 0,
  "metadata": {
    "colab": {
      "name": "Untitled1.ipynb",
      "provenance": [],
      "authorship_tag": "ABX9TyM11z8Q3MK6Zrg+t2y+Y/Jw",
      "include_colab_link": true
    },
    "kernelspec": {
      "name": "python3",
      "display_name": "Python 3"
    },
    "language_info": {
      "name": "python"
    }
  },
  "cells": [
    {
      "cell_type": "markdown",
      "metadata": {
        "id": "view-in-github",
        "colab_type": "text"
      },
      "source": [
        "<a href=\"https://colab.research.google.com/github/Whitchurch/Tensorflow/blob/main/NumberRecognition_WithCNN_998_accuracy.ipynb\" target=\"_parent\"><img src=\"https://colab.research.google.com/assets/colab-badge.svg\" alt=\"Open In Colab\"/></a>"
      ]
    },
    {
      "cell_type": "code",
      "metadata": {
        "colab": {
          "base_uri": "https://localhost:8080/"
        },
        "id": "G6PQHGzqmENX",
        "outputId": "1c7228cb-93ad-486e-e0a3-ebb3b7cba4e8"
      },
      "source": [
        "import tensorflow as tf\n",
        "from tensorflow import keras\n",
        "import matplotlib.pyplot as plt\n",
        "import numpy as np\n",
        "print(tf.__version__)"
      ],
      "execution_count": 6,
      "outputs": [
        {
          "output_type": "stream",
          "name": "stdout",
          "text": [
            "2.6.0\n"
          ]
        }
      ]
    },
    {
      "cell_type": "markdown",
      "metadata": {
        "id": "bS_5_NjBma8R"
      },
      "source": [
        "Point to the mnist numbers database"
      ]
    },
    {
      "cell_type": "code",
      "metadata": {
        "id": "eEVlbeFbmvPy"
      },
      "source": [
        "mnist = keras.datasets.mnist"
      ],
      "execution_count": 3,
      "outputs": []
    },
    {
      "cell_type": "markdown",
      "metadata": {
        "id": "AFztPZcVm1Jd"
      },
      "source": [
        "Load the data from the MNIST_numbers dataset"
      ]
    },
    {
      "cell_type": "code",
      "metadata": {
        "colab": {
          "base_uri": "https://localhost:8080/"
        },
        "id": "7r7_qjYDm8Ar",
        "outputId": "0bd2bb60-3298-4bb9-bda3-96a29ed4779f"
      },
      "source": [
        "(training_images, training_labels), (test_images, test_labels) = mnist.load_data()"
      ],
      "execution_count": 4,
      "outputs": [
        {
          "output_type": "stream",
          "name": "stdout",
          "text": [
            "Downloading data from https://storage.googleapis.com/tensorflow/tf-keras-datasets/mnist.npz\n",
            "11493376/11490434 [==============================] - 0s 0us/step\n",
            "11501568/11490434 [==============================] - 0s 0us/step\n"
          ]
        }
      ]
    },
    {
      "cell_type": "markdown",
      "metadata": {
        "id": "_dVlx9XanCzO"
      },
      "source": [
        "View sample data: You can see the object in the picture as a matrix of numbers. Pretty cool huh!.  Just like the move: The Matrix."
      ]
    },
    {
      "cell_type": "code",
      "metadata": {
        "colab": {
          "base_uri": "https://localhost:8080/",
          "height": 282
        },
        "id": "KjOXc4vGnNvT",
        "outputId": "40f7b20c-1a8e-4399-c6ad-ce29401c1348"
      },
      "source": [
        "np.set_printoptions(linewidth=200)\n",
        "picIndex = tf.Variable(2)\n",
        "plt.imshow(training_images[picIndex])\n",
        "\n",
        "#Check the shape of the array\n",
        "training_images.shape\n",
        "#training_images[picIndex].shape\n",
        "#print(training_labels[picIndex])\n",
        "#print(training_images[picIndex])"
      ],
      "execution_count": 21,
      "outputs": [
        {
          "output_type": "execute_result",
          "data": {
            "text/plain": [
              "(60000, 28, 28)"
            ]
          },
          "metadata": {},
          "execution_count": 21
        },
        {
          "output_type": "display_data",
          "data": {
            "image/png": "[encoded data removed]",
            "text/plain": [
              "<Figure size 432x288 with 1 Axes>"
            ]
          },
          "metadata": {
            "needs_background": "light"
          }
        }
      ]
    },
    {
      "cell_type": "markdown",
      "metadata": {
        "id": "RwlPv4__nh_A"
      },
      "source": [
        "Normalize the input values. So that input weights don't dominate due to being on a higher scale.  We just divide, to do the scaling. Better approach is to do Z-normalization. Centering around the zero mean."
      ]
    },
    {
      "cell_type": "code",
      "metadata": {
        "colab": {
          "base_uri": "https://localhost:8080/",
          "height": 282
        },
        "id": "l6taXQM7nlzD",
        "outputId": "2cfc28c2-f52e-4b21-cca2-090caeb3d260"
      },
      "source": [
        "training_images = training_images/255\n",
        "test_images = test_images/255\n",
        "plt.imshow(training_images[picIndex])\n"
      ],
      "execution_count": 8,
      "outputs": [
        {
          "output_type": "execute_result",
          "data": {
            "text/plain": [
              "<matplotlib.image.AxesImage at 0x7f7d9c1a2810>"
            ]
          },
          "metadata": {},
          "execution_count": 8
        },
        {
          "output_type": "display_data",
          "data": {
            "image/png": "[encoded data removed]",
            "text/plain": [
              "<Figure size 432x288 with 1 Axes>"
            ]
          },
          "metadata": {
            "needs_background": "light"
          }
        }
      ]
    },
    {
      "cell_type": "markdown",
      "metadata": {
        "id": "u_F8tGmZqLpz"
      },
      "source": [
        "We need to reshape the input images and test images to feed into the convolution layers, to satisfy tensorflow's needs:  \n",
        "\n",
        "The code below gets the job done:"
      ]
    },
    {
      "cell_type": "code",
      "metadata": {
        "colab": {
          "base_uri": "https://localhost:8080/"
        },
        "id": "oVe59QSnqXnA",
        "outputId": "ccfab7cb-5d9c-41ab-8166-f297f13ab4c2"
      },
      "source": [
        "#We package the data into a single tensor, basically everything is wrapped up into a tensor to be sent to the first convolutional layer of\n",
        "#the neural network.\n",
        "training_images_conv=training_images.reshape(60000, 28, 28, 1)\n",
        "test_images_conv = test_images.reshape(10000, 28, 28, 1)\n",
        "\n",
        "training_images_conv.shape\n",
        "training_images_conv[picIndex].shape"
      ],
      "execution_count": 26,
      "outputs": [
        {
          "output_type": "execute_result",
          "data": {
            "text/plain": [
              "(28, 28, 1)"
            ]
          },
          "metadata": {},
          "execution_count": 26
        }
      ]
    },
    {
      "cell_type": "markdown",
      "metadata": {
        "id": "IXCskK8xoHKu"
      },
      "source": [
        "Now build the CNN"
      ]
    },
    {
      "cell_type": "code",
      "metadata": {
        "colab": {
          "base_uri": "https://localhost:8080/"
        },
        "id": "Ujy_W1hAoI01",
        "outputId": "5906afbe-a4fe-4245-daa2-a03c777bfa26"
      },
      "source": [
        "class myCallback(tf.keras.callbacks.Callback):\n",
        "  def on_epoch_end(self, epoch, logs={}):\n",
        "    if(logs.get('accuracy') >= 0.998): # Experiment with changing this value\n",
        "      print(\"\\nReached 99% accuracy so cancelling training!\")\n",
        "      self.model.stop_training = True\n",
        "\n",
        "\n",
        "mycallbacks = myCallback()\n",
        "\n",
        "\n",
        "\n",
        "#This is the beginning part of the Neural Network where we introduce the convolutions:\n",
        "#The requirements are to use a single level of (Convolution+Maxpooling) to achieve 99% accuracy.\n",
        "model = tf.keras.models.Sequential([  tf.keras.layers.Conv2D(64, (3,3), activation='relu', input_shape=(28, 28, 1)),\n",
        "                                      tf.keras.layers.MaxPooling2D(2, 2),\n",
        "                                    #This is the fully connected dense layer part of the Neural Network  \n",
        "                                      tf.keras.layers.Flatten(), \n",
        "                                      tf.keras.layers.Dense(128, activation=tf.nn.relu),  \n",
        "                                      tf.keras.layers.Dense(10, activation=tf.nn.softmax)])\n",
        "\n",
        "model.compile(optimizer = tf.optimizers.Adam(),\n",
        "              loss = 'sparse_categorical_crossentropy',\n",
        "              metrics=['accuracy'])\n",
        "\n",
        "model.fit(training_images_conv, training_labels, epochs=10, callbacks=[mycallbacks])\n",
        "model.summary()"
      ],
      "execution_count": 29,
      "outputs": [
        {
          "output_type": "stream",
          "name": "stdout",
          "text": [
            "Epoch 1/10\n",
            "1875/1875 [==============================] - 60s 32ms/step - loss: 0.1343 - accuracy: 0.9595\n",
            "Epoch 2/10\n",
            "1875/1875 [==============================] - 59s 32ms/step - loss: 0.0450 - accuracy: 0.9865\n",
            "Epoch 3/10\n",
            "1875/1875 [==============================] - 60s 32ms/step - loss: 0.0257 - accuracy: 0.9921\n",
            "Epoch 4/10\n",
            "1875/1875 [==============================] - 60s 32ms/step - loss: 0.0182 - accuracy: 0.9942\n",
            "Epoch 5/10\n",
            "1875/1875 [==============================] - 59s 32ms/step - loss: 0.0114 - accuracy: 0.9964\n",
            "Epoch 6/10\n",
            "1875/1875 [==============================] - 59s 31ms/step - loss: 0.0094 - accuracy: 0.9969\n",
            "Epoch 7/10\n",
            "1875/1875 [==============================] - 58s 31ms/step - loss: 0.0063 - accuracy: 0.9977\n",
            "Epoch 8/10\n",
            "1875/1875 [==============================] - 59s 32ms/step - loss: 0.0052 - accuracy: 0.9985\n",
            "\n",
            "Reached 99% accuracy so cancelling training!\n",
            "Model: \"sequential_4\"\n",
            "_________________________________________________________________\n",
            "Layer (type)                 Output Shape              Param #   \n",
            "=================================================================\n",
            "conv2d_1 (Conv2D)            (None, 26, 26, 64)        640       \n",
            "_________________________________________________________________\n",
            "max_pooling2d_1 (MaxPooling2 (None, 13, 13, 64)        0         \n",
            "_________________________________________________________________\n",
            "flatten_4 (Flatten)          (None, 10816)             0         \n",
            "_________________________________________________________________\n",
            "dense_8 (Dense)              (None, 128)               1384576   \n",
            "_________________________________________________________________\n",
            "dense_9 (Dense)              (None, 10)                1290      \n",
            "=================================================================\n",
            "Total params: 1,386,506\n",
            "Trainable params: 1,386,506\n",
            "Non-trainable params: 0\n",
            "_________________________________________________________________\n"
          ]
        }
      ]
    },
    {
      "cell_type": "markdown",
      "metadata": {
        "id": "Yj5hXH9xv_6I"
      },
      "source": [
        "Try out some test data:"
      ]
    },
    {
      "cell_type": "code",
      "metadata": {
        "colab": {
          "base_uri": "https://localhost:8080/"
        },
        "id": "mim5eqztwIvo",
        "outputId": "a2f423c4-fd7f-40c2-a9c9-64c665d24380"
      },
      "source": [
        "test_loss = model.evaluate(test_images_conv, test_labels)"
      ],
      "execution_count": 30,
      "outputs": [
        {
          "output_type": "stream",
          "name": "stdout",
          "text": [
            "313/313 [==============================] - 3s 9ms/step - loss: 0.0475 - accuracy: 0.9880\n"
          ]
        }
      ]
    }
  ]
}